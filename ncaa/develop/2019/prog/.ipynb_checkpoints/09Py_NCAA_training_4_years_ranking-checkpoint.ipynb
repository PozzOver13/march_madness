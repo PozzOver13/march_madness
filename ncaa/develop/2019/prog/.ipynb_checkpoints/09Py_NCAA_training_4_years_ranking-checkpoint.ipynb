{
 "cells": [
  {
   "cell_type": "code",
   "execution_count": 1,
   "metadata": {},
   "outputs": [],
   "source": [
    "import os\n",
    "import re\n",
    "import numpy as np\n",
    "import pandas as pd\n",
    "import seaborn as sns\n",
    "import matplotlib.pyplot as plt\n",
    "\n",
    "os.chdir('C:/Users/cg08900/Documents/Pandora/Personale/kaggle/NCAA_2k19/prog/functions/')\n",
    "\n",
    "from ncaa19 import *\n",
    "\n",
    "sns.set()\n",
    "\n",
    "PATH_DATASETS = 'C:/Users/cg08900/Documents/Pandora/Personale/kaggle/NCAA_2k19/datasets/'\n",
    "PATH_OUTPUT = 'C:/Users/cg08900/Documents/Pandora/Personale/kaggle/NCAA_2k19/datasets/'\n",
    "PATH_ELAB = 'C:/Users/cg08900/Documents/Pandora/Personale/kaggle/NCAA_2k19/elaborazioni/'\n",
    "\n",
    "REGRESSORS  = ['delta_poss_m', 'delta_opp_poss_m',\n",
    "              'delta_ass_ratio', 'delta_tov_ratio',\n",
    "              'delta_reb_rate', 'delta_opp_true_fg_pct',\n",
    "              'delta_off_rating_m', 'delta_def_rating_m',\n",
    "              'delta_net_rating_m', 'delta_pace_m',\n",
    "              'delta_off_rating_m_last30D', 'delta_def_rating_m_last30D',\n",
    "              'delta_net_rating_m_last30D', 'delta_off_rating_m_vs_topseeds',\n",
    "              'delta_def_rating_m_vs_topseeds', 'delta_net_rating_m_vs_topseeds',\n",
    "              'delta_c_N_season', 'delta_w_pct', 'delta_seed_int',\n",
    "              'delta_w_pct_last30D', 'delta_w_pct_vs_topseeds',\n",
    "              'delta_c_W_PCT_allT', 'delta_c_W_PCT_vs_topseeds_allT',\n",
    "              'delta_MOR', 'delta_POM',\n",
    "              'delta_SAG']\n",
    "\n",
    "df_features_all = pd.read_csv(PATH_OUTPUT + '04Py_NCAA_dataset_con_indicatori.csv',\n",
    "                              sep='|')"
   ]
  },
  {
   "cell_type": "code",
   "execution_count": 2,
   "metadata": {},
   "outputs": [],
   "source": [
    "from sklearn.linear_model import LogisticRegression\n",
    "from sklearn.isotonic import IsotonicRegression\n",
    "import numpy as np\n",
    "from itertools import chain\n",
    "\n",
    "def ir_fit(var_series, target_series):\n",
    "  ir = IsotonicRegression(increasing=\"auto\")\n",
    "  ir.fit(var_series, target_series)\n",
    "  return(ir)\n",
    "\n",
    "def ir_apply(ir, var_series):\n",
    "  return(pd.Series(ir.predict(var_series), index = var_series.index))\n",
    "\n",
    "def ir_plot(var_base, var_iso, var_target, n_classes = 10):\n",
    "  cl_x = pd.qcut(var_base, n_classes, labels = False, duplicates = 'drop')\n",
    "  stats_td = var_target.groupby(cl_x).mean()\n",
    "  stats_iso = var_iso.groupby(cl_x).mean()\n",
    "  # plot figure\n",
    "  fig = plt.figure()\n",
    "  ax = fig.add_subplot(111)\n",
    "  ax.plot(stats_td, 'bs-')\n",
    "  ax.plot(stats_iso, 'rs-')\n",
    "  ax.yaxis.grid(True, linestyle='--', linewidth=1)\n",
    "  ax.xaxis.set_label_text(\"Percentili variabile X\")\n",
    "  ax.yaxis.set_label_text(\"Td\")\n",
    "  plt.show()\n",
    "\n",
    "def logloss(y_hat, p_1win):\n",
    "    n = len(y_hat)\n",
    "    logloss = (-1/n) * sum((y_hat * np.log(p_1win)) + (1 - y_hat) * np.log(1 - p_1win))\n",
    "    return(logloss)\n",
    "\n",
    "def logistic(df_tr, features, target, df_valid=None, penalty='l2', C=1.0):\n",
    "    X = df_tr.loc[:, features]\n",
    "    y = df_tr.loc[:, target]\n",
    "    sk_model = LogisticRegression(fit_intercept=True, penalty=penalty, C=C)\\\n",
    "        .fit(X, y)\n",
    "    df_results = pd.DataFrame({'feature': [\"(Intercept)\"] + features,\n",
    "                               'beta': sk_model.intercept_.tolist() + sk_model.coef_[0].tolist()})\n",
    "    # print(df_results)\n",
    "    if df_valid is not None:\n",
    "        X_valid = df_valid.loc[:, features]\n",
    "        y_valid = df_valid.loc[:, target]\n",
    "        X_valid.fillna(0, inplace=True) # TODO: ask Stefano!\n",
    "        p_valid = pd.Series(sk_model.predict_proba(X_valid)[:,1], index = y_valid.index)\n",
    "        p_valid[p_valid >= 0.975] = 0.975\n",
    "        p_valid[p_valid <= 0.025] = 0.025\n",
    "        print(max(p_valid))\n",
    "        print(min(p_valid))\n",
    "        print(\"Log loss for test: {0}\".format(logloss(y_valid, p_valid)))\n",
    "        \n",
    "    df_results['logloss'] = logloss(y_valid, p_valid)\n",
    "\n",
    "    return df_results"
   ]
  },
  {
   "cell_type": "code",
   "execution_count": 3,
   "metadata": {},
   "outputs": [
    {
     "name": "stderr",
     "output_type": "stream",
     "text": [
      "C:\\Users\\cg08900\\AppData\\Local\\Continuum\\anaconda3\\envs\\py36\\lib\\site-packages\\sklearn\\isotonic.py:70: UserWarning: Confidence interval of the Spearman correlation coefficient spans zero. Determination of ``increasing`` may be suspect.\n",
      "  warnings.warn(\"Confidence interval of the Spearman \"\n",
      "C:\\Users\\cg08900\\AppData\\Local\\Continuum\\anaconda3\\envs\\py36\\lib\\site-packages\\sklearn\\isotonic.py:70: UserWarning: Confidence interval of the Spearman correlation coefficient spans zero. Determination of ``increasing`` may be suspect.\n",
      "  warnings.warn(\"Confidence interval of the Spearman \"\n",
      "C:\\Users\\cg08900\\AppData\\Local\\Continuum\\anaconda3\\envs\\py36\\lib\\site-packages\\sklearn\\isotonic.py:70: UserWarning: Confidence interval of the Spearman correlation coefficient spans zero. Determination of ``increasing`` may be suspect.\n",
      "  warnings.warn(\"Confidence interval of the Spearman \"\n",
      "C:\\Users\\cg08900\\AppData\\Local\\Continuum\\anaconda3\\envs\\py36\\lib\\site-packages\\sklearn\\isotonic.py:70: UserWarning: Confidence interval of the Spearman correlation coefficient spans zero. Determination of ``increasing`` may be suspect.\n",
      "  warnings.warn(\"Confidence interval of the Spearman \"\n",
      "C:\\Users\\cg08900\\AppData\\Local\\Continuum\\anaconda3\\envs\\py36\\lib\\site-packages\\sklearn\\isotonic.py:70: UserWarning: Confidence interval of the Spearman correlation coefficient spans zero. Determination of ``increasing`` may be suspect.\n",
      "  warnings.warn(\"Confidence interval of the Spearman \"\n",
      "C:\\Users\\cg08900\\AppData\\Local\\Continuum\\anaconda3\\envs\\py36\\lib\\site-packages\\sklearn\\isotonic.py:70: UserWarning: Confidence interval of the Spearman correlation coefficient spans zero. Determination of ``increasing`` may be suspect.\n",
      "  warnings.warn(\"Confidence interval of the Spearman \"\n",
      "C:\\Users\\cg08900\\AppData\\Local\\Continuum\\anaconda3\\envs\\py36\\lib\\site-packages\\sklearn\\isotonic.py:70: UserWarning: Confidence interval of the Spearman correlation coefficient spans zero. Determination of ``increasing`` may be suspect.\n",
      "  warnings.warn(\"Confidence interval of the Spearman \"\n",
      "C:\\Users\\cg08900\\AppData\\Local\\Continuum\\anaconda3\\envs\\py36\\lib\\site-packages\\sklearn\\isotonic.py:70: UserWarning: Confidence interval of the Spearman correlation coefficient spans zero. Determination of ``increasing`` may be suspect.\n",
      "  warnings.warn(\"Confidence interval of the Spearman \"\n",
      "C:\\Users\\cg08900\\AppData\\Local\\Continuum\\anaconda3\\envs\\py36\\lib\\site-packages\\sklearn\\isotonic.py:70: UserWarning: Confidence interval of the Spearman correlation coefficient spans zero. Determination of ``increasing`` may be suspect.\n",
      "  warnings.warn(\"Confidence interval of the Spearman \"\n",
      "C:\\Users\\cg08900\\AppData\\Local\\Continuum\\anaconda3\\envs\\py36\\lib\\site-packages\\sklearn\\isotonic.py:70: UserWarning: Confidence interval of the Spearman correlation coefficient spans zero. Determination of ``increasing`` may be suspect.\n",
      "  warnings.warn(\"Confidence interval of the Spearman \"\n",
      "C:\\Users\\cg08900\\AppData\\Local\\Continuum\\anaconda3\\envs\\py36\\lib\\site-packages\\sklearn\\isotonic.py:70: UserWarning: Confidence interval of the Spearman correlation coefficient spans zero. Determination of ``increasing`` may be suspect.\n",
      "  warnings.warn(\"Confidence interval of the Spearman \"\n",
      "C:\\Users\\cg08900\\AppData\\Local\\Continuum\\anaconda3\\envs\\py36\\lib\\site-packages\\sklearn\\isotonic.py:70: UserWarning: Confidence interval of the Spearman correlation coefficient spans zero. Determination of ``increasing`` may be suspect.\n",
      "  warnings.warn(\"Confidence interval of the Spearman \"\n",
      "C:\\Users\\cg08900\\AppData\\Local\\Continuum\\anaconda3\\envs\\py36\\lib\\site-packages\\sklearn\\isotonic.py:70: UserWarning: Confidence interval of the Spearman correlation coefficient spans zero. Determination of ``increasing`` may be suspect.\n",
      "  warnings.warn(\"Confidence interval of the Spearman \"\n",
      "C:\\Users\\cg08900\\AppData\\Local\\Continuum\\anaconda3\\envs\\py36\\lib\\site-packages\\sklearn\\isotonic.py:70: UserWarning: Confidence interval of the Spearman correlation coefficient spans zero. Determination of ``increasing`` may be suspect.\n",
      "  warnings.warn(\"Confidence interval of the Spearman \"\n",
      "C:\\Users\\cg08900\\AppData\\Local\\Continuum\\anaconda3\\envs\\py36\\lib\\site-packages\\sklearn\\isotonic.py:70: UserWarning: Confidence interval of the Spearman correlation coefficient spans zero. Determination of ``increasing`` may be suspect.\n",
      "  warnings.warn(\"Confidence interval of the Spearman \"\n",
      "C:\\Users\\cg08900\\AppData\\Local\\Continuum\\anaconda3\\envs\\py36\\lib\\site-packages\\sklearn\\isotonic.py:70: UserWarning: Confidence interval of the Spearman correlation coefficient spans zero. Determination of ``increasing`` may be suspect.\n",
      "  warnings.warn(\"Confidence interval of the Spearman \"\n"
     ]
    },
    {
     "name": "stdout",
     "output_type": "stream",
     "text": [
      "testing on: 2015\n",
      "0.9527760550481392\n",
      "0.04193384858381864\n",
      "Log loss for test: 0.5379789498881105\n",
      "testing on: 2016\n",
      "0.9189498779239839\n",
      "0.05225070439385922\n",
      "Log loss for test: 0.546762067160723\n",
      "testing on: 2017\n"
     ]
    },
    {
     "name": "stderr",
     "output_type": "stream",
     "text": [
      "C:\\Users\\cg08900\\AppData\\Local\\Continuum\\anaconda3\\envs\\py36\\lib\\site-packages\\sklearn\\isotonic.py:70: UserWarning: Confidence interval of the Spearman correlation coefficient spans zero. Determination of ``increasing`` may be suspect.\n",
      "  warnings.warn(\"Confidence interval of the Spearman \"\n",
      "C:\\Users\\cg08900\\AppData\\Local\\Continuum\\anaconda3\\envs\\py36\\lib\\site-packages\\sklearn\\isotonic.py:70: UserWarning: Confidence interval of the Spearman correlation coefficient spans zero. Determination of ``increasing`` may be suspect.\n",
      "  warnings.warn(\"Confidence interval of the Spearman \"\n",
      "C:\\Users\\cg08900\\AppData\\Local\\Continuum\\anaconda3\\envs\\py36\\lib\\site-packages\\sklearn\\isotonic.py:70: UserWarning: Confidence interval of the Spearman correlation coefficient spans zero. Determination of ``increasing`` may be suspect.\n",
      "  warnings.warn(\"Confidence interval of the Spearman \"\n",
      "C:\\Users\\cg08900\\AppData\\Local\\Continuum\\anaconda3\\envs\\py36\\lib\\site-packages\\sklearn\\isotonic.py:70: UserWarning: Confidence interval of the Spearman correlation coefficient spans zero. Determination of ``increasing`` may be suspect.\n",
      "  warnings.warn(\"Confidence interval of the Spearman \"\n",
      "C:\\Users\\cg08900\\AppData\\Local\\Continuum\\anaconda3\\envs\\py36\\lib\\site-packages\\sklearn\\isotonic.py:70: UserWarning: Confidence interval of the Spearman correlation coefficient spans zero. Determination of ``increasing`` may be suspect.\n",
      "  warnings.warn(\"Confidence interval of the Spearman \"\n",
      "C:\\Users\\cg08900\\AppData\\Local\\Continuum\\anaconda3\\envs\\py36\\lib\\site-packages\\sklearn\\isotonic.py:70: UserWarning: Confidence interval of the Spearman correlation coefficient spans zero. Determination of ``increasing`` may be suspect.\n",
      "  warnings.warn(\"Confidence interval of the Spearman \"\n",
      "C:\\Users\\cg08900\\AppData\\Local\\Continuum\\anaconda3\\envs\\py36\\lib\\site-packages\\sklearn\\isotonic.py:70: UserWarning: Confidence interval of the Spearman correlation coefficient spans zero. Determination of ``increasing`` may be suspect.\n",
      "  warnings.warn(\"Confidence interval of the Spearman \"\n"
     ]
    },
    {
     "name": "stdout",
     "output_type": "stream",
     "text": [
      "0.9475436760444634\n",
      "0.05057507638417902\n",
      "Log loss for test: 0.5370035508239486\n",
      "testing on: 2018\n",
      "0.9093738137582613\n",
      "0.04946188695744998\n",
      "Log loss for test: 0.6127620664186489\n"
     ]
    }
   ],
   "source": [
    "## Train 4 years\n",
    "\n",
    "for year_ in [0,1,2,3]:\n",
    "    filter_train = (df_features_all['Season']>=2008) & (df_features_all['Season']<=2014+year_)\n",
    "    filter_test = (df_features_all['Season'].isin([2015+year_]))\n",
    "    df_train = df_features_all.loc[filter_train, :].copy()\n",
    "    df_test = df_features_all.loc[filter_test, :].copy()\n",
    "    df_train.fillna(0, inplace=True) \n",
    "    df_test.fillna(0, inplace=True)\n",
    "\n",
    "    # apply isotonic transformation\n",
    "    for regressor in REGRESSORS:\n",
    "    \n",
    "        # print(\"Transform feature {0}\".format(regressor))\n",
    "    \n",
    "        ir_var = ir_fit(df_train[regressor], df_train['win_dummy'])\n",
    "        df_train['piso_' + regressor] =\\\n",
    "          ir_apply(ir_var, df_train[regressor])\n",
    "        df_test['piso_' + regressor] =\\\n",
    "          ir_apply(ir_var, df_test[regressor])\n",
    "    \n",
    "        # ir_plot(df_test[regressor],\n",
    "        #         df_test['piso_' + regressor],\n",
    "        #         df_test['win_dummy'], 25)\n",
    "    print('testing on: ' + str(2015+year_))\n",
    "    out_ = logistic(df_train, ['piso_' + r for r in REGRESSORS], \n",
    "                    'win_dummy', df_test, penalty='l1', C=0.50)  \n",
    "    \n",
    "    out_['test_year'] = 2015+year_\n",
    "    \n",
    "    if year_ == 0:\n",
    "        out_f = out_\n",
    "    else:\n",
    "        out_f = pd.concat([out_f, out_])"
   ]
  },
  {
   "cell_type": "code",
   "execution_count": 4,
   "metadata": {},
   "outputs": [],
   "source": [
    "out_f.to_excel(PATH_DATASETS + \"09Py_NCAA_ciclo_primo_modello_lasso_isotonic.xlsx\")"
   ]
  },
  {
   "cell_type": "code",
   "execution_count": null,
   "metadata": {},
   "outputs": [],
   "source": []
  }
 ],
 "metadata": {
  "kernelspec": {
   "display_name": "Python 3",
   "language": "python",
   "name": "python3"
  },
  "language_info": {
   "codemirror_mode": {
    "name": "ipython",
    "version": 3
   },
   "file_extension": ".py",
   "mimetype": "text/x-python",
   "name": "python",
   "nbconvert_exporter": "python",
   "pygments_lexer": "ipython3",
   "version": "3.6.5"
  },
  "varInspector": {
   "cols": {
    "lenName": 16,
    "lenType": 16,
    "lenVar": 40
   },
   "kernels_config": {
    "python": {
     "delete_cmd_postfix": "",
     "delete_cmd_prefix": "del ",
     "library": "var_list.py",
     "varRefreshCmd": "print(var_dic_list())"
    },
    "r": {
     "delete_cmd_postfix": ") ",
     "delete_cmd_prefix": "rm(",
     "library": "var_list.r",
     "varRefreshCmd": "cat(var_dic_list()) "
    }
   },
   "types_to_exclude": [
    "module",
    "function",
    "builtin_function_or_method",
    "instance",
    "_Feature"
   ],
   "window_display": false
  }
 },
 "nbformat": 4,
 "nbformat_minor": 2
}
