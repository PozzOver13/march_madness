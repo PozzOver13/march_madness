{
 "cells": [
  {
   "cell_type": "markdown",
   "metadata": {},
   "source": [
    "# Fill Bracket\n",
    "\n",
    "https://github.com/cshaley/bracketeer"
   ]
  },
  {
   "cell_type": "code",
   "execution_count": 3,
   "metadata": {},
   "outputs": [],
   "source": [
    "from bracketeer import build_bracket\n",
    "\n",
    "path_datasets_old = 'C:/Users/cg08900/Documents/Pandora/Personale/kaggle/NCAA_2k19/datasets/'\n",
    "path_datasets = 'C:/Users/cg08900/Documents/Pandora/Personale/kaggle/NCAA_2k19/datasets/2019/'\n",
    "path_elab = 'C:/Users/cg08900/Documents/Pandora/Personale/kaggle/NCAA_2k19/elaborazioni/'\n",
    "\n",
    "\n",
    "\n",
    "b = build_bracket(\n",
    "        outputPath= path_elab + 'bracket_2019.png',\n",
    "        teamsPath= path_datasets + 'Teams.csv',\n",
    "        seedsPath= path_datasets + 'NCAATourneySeeds.csv',\n",
    "        submissionPath= path_datasets + '10Py_NCAA_submission.csv',\n",
    "        slotsPath= path_datasets + 'NCAATourneySlots.csv',\n",
    "        year=2019\n",
    ")"
   ]
  },
  {
   "cell_type": "code",
   "execution_count": 1,
   "metadata": {},
   "outputs": [
    {
     "ename": "ModuleNotFoundError",
     "evalue": "No module named 'bracketeer'",
     "output_type": "error",
     "traceback": [
      "\u001b[1;31m---------------------------------------------------------------------------\u001b[0m",
      "\u001b[1;31mModuleNotFoundError\u001b[0m                       Traceback (most recent call last)",
      "\u001b[1;32m<ipython-input-1-4f250da5c4ae>\u001b[0m in \u001b[0;36m<module>\u001b[1;34m()\u001b[0m\n\u001b[1;32m----> 1\u001b[1;33m \u001b[1;32mfrom\u001b[0m \u001b[0mbracketeer\u001b[0m \u001b[1;32mimport\u001b[0m \u001b[0mbuild_bracket\u001b[0m\u001b[1;33m\u001b[0m\u001b[0m\n\u001b[0m\u001b[0;32m      2\u001b[0m \u001b[1;33m\u001b[0m\u001b[0m\n\u001b[0;32m      3\u001b[0m \u001b[0mpath_datasets_old\u001b[0m \u001b[1;33m=\u001b[0m \u001b[1;34m'C:/Users/cg08900/Documents/Pandora/Personale/kaggle/NCAA_2k19/datasets/'\u001b[0m\u001b[1;33m\u001b[0m\u001b[0m\n\u001b[0;32m      4\u001b[0m \u001b[0mpath_datasets\u001b[0m \u001b[1;33m=\u001b[0m \u001b[1;34m'C:/Users/cg08900/Documents/Pandora/Personale/kaggle/NCAA_2k19/datasets/2019/'\u001b[0m\u001b[1;33m\u001b[0m\u001b[0m\n\u001b[0;32m      5\u001b[0m \u001b[0mpath_elab\u001b[0m \u001b[1;33m=\u001b[0m \u001b[1;34m'C:/Users/cg08900/Documents/Pandora/Personale/kaggle/NCAA_2k19/elaborazioni/'\u001b[0m\u001b[1;33m\u001b[0m\u001b[0m\n",
      "\u001b[1;31mModuleNotFoundError\u001b[0m: No module named 'bracketeer'"
     ]
    }
   ],
   "source": [
    "from bracketeer import build_bracket\n",
    "\n",
    "path_datasets_old = 'C:/Users/cg08900/Documents/Pandora/Personale/kaggle/NCAA_2k19/datasets/'\n",
    "path_datasets = 'C:/Users/cg08900/Documents/Pandora/Personale/kaggle/NCAA_2k19/datasets/2019/'\n",
    "path_elab = 'C:/Users/cg08900/Documents/Pandora/Personale/kaggle/NCAA_2k19/elaborazioni/'\n",
    "\n",
    "b2 = build_bracket(\n",
    "        outputPath= path_elab + 'bracket_2019_NEW.png',\n",
    "        teamsPath= path_datasets + 'Teams.csv',\n",
    "        seedsPath= path_datasets + 'NCAATourneySeeds.csv',\n",
    "        submissionPath= path_datasets + '10Py_NCAA_submission_NEW.csv',\n",
    "        slotsPath= path_datasets + 'NCAATourneySlots.csv',\n",
    "        year=2019\n",
    ")"
   ]
  },
  {
   "cell_type": "code",
   "execution_count": null,
   "metadata": {},
   "outputs": [],
   "source": []
  }
 ],
 "metadata": {
  "kernelspec": {
   "display_name": "Python 3",
   "language": "python",
   "name": "python3"
  },
  "language_info": {
   "codemirror_mode": {
    "name": "ipython",
    "version": 3
   },
   "file_extension": ".py",
   "mimetype": "text/x-python",
   "name": "python",
   "nbconvert_exporter": "python",
   "pygments_lexer": "ipython3",
   "version": "3.7.0"
  },
  "varInspector": {
   "cols": {
    "lenName": 16,
    "lenType": 16,
    "lenVar": 40
   },
   "kernels_config": {
    "python": {
     "delete_cmd_postfix": "",
     "delete_cmd_prefix": "del ",
     "library": "var_list.py",
     "varRefreshCmd": "print(var_dic_list())"
    },
    "r": {
     "delete_cmd_postfix": ") ",
     "delete_cmd_prefix": "rm(",
     "library": "var_list.r",
     "varRefreshCmd": "cat(var_dic_list()) "
    }
   },
   "types_to_exclude": [
    "module",
    "function",
    "builtin_function_or_method",
    "instance",
    "_Feature"
   ],
   "window_display": false
  }
 },
 "nbformat": 4,
 "nbformat_minor": 2
}
