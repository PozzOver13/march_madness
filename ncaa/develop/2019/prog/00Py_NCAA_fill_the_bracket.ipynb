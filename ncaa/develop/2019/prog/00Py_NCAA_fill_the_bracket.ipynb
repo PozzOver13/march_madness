{
 "cells": [
  {
   "cell_type": "markdown",
   "metadata": {},
   "source": [
    "# Fill Bracket\n",
    "\n",
    "https://github.com/cshaley/bracketeer"
   ]
  },
  {
   "cell_type": "code",
   "execution_count": 3,
   "metadata": {},
   "outputs": [],
   "source": [
    "from bracketeer import build_bracket\n",
    "\n",
    "path_datasets_old = 'C:/Users/cg08900/Documents/Pandora/Personale/kaggle/NCAA_2k19/datasets/'\n",
    "path_datasets = 'C:/Users/cg08900/Documents/Pandora/Personale/kaggle/NCAA_2k19/datasets/2019/'\n",
    "path_elab = 'C:/Users/cg08900/Documents/Pandora/Personale/kaggle/NCAA_2k19/elaborazioni/'\n",
    "\n",
    "\n",
    "\n",
    "b = build_bracket(\n",
    "        outputPath= path_elab + 'bracket_2019.png',\n",
    "        teamsPath= path_datasets + 'Teams.csv',\n",
    "        seedsPath= path_datasets + 'NCAATourneySeeds.csv',\n",
    "        submissionPath= path_datasets + '10Py_NCAA_submission.csv',\n",
    "        slotsPath= path_datasets + 'NCAATourneySlots.csv',\n",
    "        year=2019\n",
    ")"
   ]
  },
  {
   "cell_type": "code",
   "execution_count": 1,
   "metadata": {},
   "outputs": [],
   "source": [
    "from bracketeer import build_bracket\n",
    "\n",
    "path_datasets_old = 'C:/Users/cg08900/Documents/Pandora/Personale/kaggle/NCAA_2k19/datasets/'\n",
    "path_datasets = 'C:/Users/cg08900/Documents/Pandora/Personale/kaggle/NCAA_2k19/datasets/2019/'\n",
    "path_elab = 'C:/Users/cg08900/Documents/Pandora/Personale/kaggle/NCAA_2k19/elaborazioni/'\n",
    "\n",
    "b2 = build_bracket(\n",
    "        outputPath= path_elab + 'bracket_2019_NEW.png',\n",
    "        teamsPath= path_datasets + 'Teams.csv',\n",
    "        seedsPath= path_datasets + 'NCAATourneySeeds.csv',\n",
    "        submissionPath= path_datasets + '10Py_NCAA_submission_NEW.csv',\n",
    "        slotsPath= path_datasets + 'NCAATourneySlots.csv',\n",
    "        year=2019\n",
    ")"
   ]
  },
  {
   "cell_type": "code",
   "execution_count": null,
   "metadata": {},
   "outputs": [],
   "source": []
  }
 ],
 "metadata": {
  "kernelspec": {
   "display_name": "Python 3",
   "language": "python",
   "name": "python3"
  },
  "language_info": {
   "codemirror_mode": {
    "name": "ipython",
    "version": 3
   },
   "file_extension": ".py",
   "mimetype": "text/x-python",
   "name": "python",
   "nbconvert_exporter": "python",
   "pygments_lexer": "ipython3",
   "version": "3.6.5"
  },
  "varInspector": {
   "cols": {
    "lenName": 16,
    "lenType": 16,
    "lenVar": 40
   },
   "kernels_config": {
    "python": {
     "delete_cmd_postfix": "",
     "delete_cmd_prefix": "del ",
     "library": "var_list.py",
     "varRefreshCmd": "print(var_dic_list())"
    },
    "r": {
     "delete_cmd_postfix": ") ",
     "delete_cmd_prefix": "rm(",
     "library": "var_list.r",
     "varRefreshCmd": "cat(var_dic_list()) "
    }
   },
   "types_to_exclude": [
    "module",
    "function",
    "builtin_function_or_method",
    "instance",
    "_Feature"
   ],
   "window_display": false
  }
 },
 "nbformat": 4,
 "nbformat_minor": 2
}
